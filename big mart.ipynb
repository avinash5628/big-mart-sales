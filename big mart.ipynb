{
 "cells": [
  {
   "cell_type": "code",
   "execution_count": 5,
   "metadata": {},
   "outputs": [],
   "source": [
    "import pandas as pd\n",
    "import numpy as np\n",
    "import matplotlib.pyplot as plt\n",
    "import os\n",
    "import warnings \n",
    "warnings.filterwarnings(\"ignore\")\n",
    "import seaborn as sns\n",
    "os.chdir('C:\\\\Users\\\\avinash\\\\Desktop')\n",
    "data=pd.read_csv('bigmart_data.csv')\n",
    "data.drop(columns='Item_Identifier',inplace=True)"
   ]
  },
  {
   "cell_type": "code",
   "execution_count": 6,
   "metadata": {},
   "outputs": [],
   "source": [
    "y=data['Item_Outlet_Sales']\n",
    "data.drop(columns='Item_Outlet_Sales',inplace=True)"
   ]
  },
  {
   "cell_type": "code",
   "execution_count": 7,
   "metadata": {},
   "outputs": [
    {
     "data": {
      "text/html": [
       "<div>\n",
       "<style scoped>\n",
       "    .dataframe tbody tr th:only-of-type {\n",
       "        vertical-align: middle;\n",
       "    }\n",
       "\n",
       "    .dataframe tbody tr th {\n",
       "        vertical-align: top;\n",
       "    }\n",
       "\n",
       "    .dataframe thead th {\n",
       "        text-align: right;\n",
       "    }\n",
       "</style>\n",
       "<table border=\"1\" class=\"dataframe\">\n",
       "  <thead>\n",
       "    <tr style=\"text-align: right;\">\n",
       "      <th></th>\n",
       "      <th>Column_name</th>\n",
       "      <th>Na_Count</th>\n",
       "      <th>Na_Percentage</th>\n",
       "    </tr>\n",
       "  </thead>\n",
       "  <tbody>\n",
       "    <tr>\n",
       "      <th>Outlet_Size</th>\n",
       "      <td>Outlet_Size</td>\n",
       "      <td>2410</td>\n",
       "      <td>28.276428</td>\n",
       "    </tr>\n",
       "    <tr>\n",
       "      <th>Item_Weight</th>\n",
       "      <td>Item_Weight</td>\n",
       "      <td>1463</td>\n",
       "      <td>17.165317</td>\n",
       "    </tr>\n",
       "    <tr>\n",
       "      <th>Item_Fat_Content</th>\n",
       "      <td>Item_Fat_Content</td>\n",
       "      <td>0</td>\n",
       "      <td>0.000000</td>\n",
       "    </tr>\n",
       "    <tr>\n",
       "      <th>Item_Visibility</th>\n",
       "      <td>Item_Visibility</td>\n",
       "      <td>0</td>\n",
       "      <td>0.000000</td>\n",
       "    </tr>\n",
       "    <tr>\n",
       "      <th>Item_Type</th>\n",
       "      <td>Item_Type</td>\n",
       "      <td>0</td>\n",
       "      <td>0.000000</td>\n",
       "    </tr>\n",
       "    <tr>\n",
       "      <th>Item_MRP</th>\n",
       "      <td>Item_MRP</td>\n",
       "      <td>0</td>\n",
       "      <td>0.000000</td>\n",
       "    </tr>\n",
       "    <tr>\n",
       "      <th>Outlet_Identifier</th>\n",
       "      <td>Outlet_Identifier</td>\n",
       "      <td>0</td>\n",
       "      <td>0.000000</td>\n",
       "    </tr>\n",
       "    <tr>\n",
       "      <th>Outlet_Establishment_Year</th>\n",
       "      <td>Outlet_Establishment_Year</td>\n",
       "      <td>0</td>\n",
       "      <td>0.000000</td>\n",
       "    </tr>\n",
       "    <tr>\n",
       "      <th>Outlet_Location_Type</th>\n",
       "      <td>Outlet_Location_Type</td>\n",
       "      <td>0</td>\n",
       "      <td>0.000000</td>\n",
       "    </tr>\n",
       "    <tr>\n",
       "      <th>Outlet_Type</th>\n",
       "      <td>Outlet_Type</td>\n",
       "      <td>0</td>\n",
       "      <td>0.000000</td>\n",
       "    </tr>\n",
       "  </tbody>\n",
       "</table>\n",
       "</div>"
      ],
      "text/plain": [
       "                                         Column_name  Na_Count  Na_Percentage\n",
       "Outlet_Size                              Outlet_Size      2410      28.276428\n",
       "Item_Weight                              Item_Weight      1463      17.165317\n",
       "Item_Fat_Content                    Item_Fat_Content         0       0.000000\n",
       "Item_Visibility                      Item_Visibility         0       0.000000\n",
       "Item_Type                                  Item_Type         0       0.000000\n",
       "Item_MRP                                    Item_MRP         0       0.000000\n",
       "Outlet_Identifier                  Outlet_Identifier         0       0.000000\n",
       "Outlet_Establishment_Year  Outlet_Establishment_Year         0       0.000000\n",
       "Outlet_Location_Type            Outlet_Location_Type         0       0.000000\n",
       "Outlet_Type                              Outlet_Type         0       0.000000"
      ]
     },
     "execution_count": 7,
     "metadata": {},
     "output_type": "execute_result"
    }
   ],
   "source": [
    "na_df=pd.DataFrame({\"Column_name\":data.columns,\n",
    "                     \"Na_Count\":data.isnull().sum(),\n",
    "                     \"Na_Percentage\":data.isnull().sum()/data.shape[0]*100})\n",
    "na_df\n",
    "na_df.sort_values(by=\"Na_Percentage\",ascending=False)"
   ]
  },
  {
   "cell_type": "code",
   "execution_count": 8,
   "metadata": {},
   "outputs": [
    {
     "name": "stdout",
     "output_type": "stream",
     "text": [
      "object\n",
      "float64\n",
      "12.857645184136183\n",
      "12.6\n"
     ]
    }
   ],
   "source": [
    "print(data['Outlet_Size'].dtype)\n",
    "print(data['Item_Weight'].dtype)\n",
    "print(data['Item_Weight'].mean())\n",
    "print(data['Item_Weight'].median())"
   ]
  },
  {
   "cell_type": "code",
   "execution_count": 10,
   "metadata": {},
   "outputs": [],
   "source": [
    "data['Outlet_Size'].fillna(data['Outlet_Size'].mode()[0],inplace=True)\n",
    "data['Item_Weight'].fillna(data['Item_Weight'].median(),inplace=True)"
   ]
  },
  {
   "cell_type": "code",
   "execution_count": 11,
   "metadata": {},
   "outputs": [],
   "source": [
    "from sklearn.model_selection import train_test_split\n",
    "X_train,X_test,y_train,y_test=train_test_split(data,y,train_size=0.3,random_state=42)\n",
    "\n"
   ]
  },
  {
   "cell_type": "code",
   "execution_count": 20,
   "metadata": {},
   "outputs": [],
   "source": [
    "from sklearn.preprocessing import LabelEncoder,OneHotEncoder\n",
    "label=LabelEncoder()\n",
    "catgeroical_cols=[col for col in X_train.columns if X_train[col].dtype==\"object\"]\n",
    "catgeroical_cols\n",
    "\n",
    "for ele in  catgeroical_cols:\n",
    "    X_train[ele]=label.fit_transform(X_train[ele])\n",
    "    X_test[ele]=label.transform(X_test[ele])"
   ]
  },
  {
   "cell_type": "code",
   "execution_count": 21,
   "metadata": {},
   "outputs": [],
   "source": [
    "from sklearn.preprocessing import StandardScaler\n",
    "import numpy as np\n",
    "scaler=StandardScaler()\n",
    "continous_cols=[col for col in X_train.columns if X_train[col].dtype==\"float64\" or X_train[col].dtype==\"int64\"]\n",
    "continous_cols\n",
    "\n",
    "for ele in continous_cols:\n",
    "    X_train[ele]=scaler.fit_transform(np.array(X_train[ele]).reshape(-1,1))\n",
    "    X_test[ele]=scaler.transform(np.array(X_test[ele]).reshape(-1,1))"
   ]
  },
  {
   "cell_type": "code",
   "execution_count": 22,
   "metadata": {},
   "outputs": [
    {
     "name": "stdout",
     "output_type": "stream",
     "text": [
      "1426906.7433568435\n",
      "0.505999875974591\n"
     ]
    }
   ],
   "source": [
    "from sklearn.linear_model import LinearRegression\n",
    "from sklearn.metrics import r2_score,mean_squared_error,adjusted_rand_score\n",
    "reg=LinearRegression()\n",
    "reg.fit(X_train,y_train)\n",
    "y_pred=reg.predict(X_test)\n",
    "\n",
    "print(mean_squared_error(y_test,y_pred))\n",
    "print(r2_score(y_test,y_pred))"
   ]
  },
  {
   "cell_type": "code",
   "execution_count": 23,
   "metadata": {},
   "outputs": [
    {
     "name": "stdout",
     "output_type": "stream",
     "text": [
      "{'min_samples_split': 4, 'min_samples_leaf': 9, 'max_depth': 5, 'criterion': 'mse'}\n",
      "0.5733157152396365\n"
     ]
    }
   ],
   "source": [
    "from sklearn.tree import DecisionTreeRegressor\n",
    "from sklearn.model_selection import GridSearchCV,RandomizedSearchCV\n",
    "tree=DecisionTreeRegressor(random_state=42)\n",
    "tree\n",
    "parameter={\"criterion\":[\"mse\"],\n",
    "            \"min_samples_split\":[2,3,4,5,6],#here min samples split should be greater than 1 otherwise it will raise a error\n",
    "            \"min_samples_leaf\":[5,6,7,8,9],\n",
    "            \"max_depth\":[5,6,7,8,9]}\n",
    "rd_cv=RandomizedSearchCV(estimator=tree,param_distributions=parameter,cv=5,n_iter=80)\n",
    "rd_cv.fit(X_train,y_train)\n",
    "\n",
    "print(rd_cv.best_params_)\n",
    "\n",
    "print(rd_cv.best_score_)"
   ]
  },
  {
   "cell_type": "code",
   "execution_count": 24,
   "metadata": {},
   "outputs": [
    {
     "name": "stdout",
     "output_type": "stream",
     "text": [
      "{'criterion': 'mse', 'max_depth': 5, 'min_samples_leaf': 9, 'min_samples_split': 2}\n",
      "0.5733157152396365\n"
     ]
    }
   ],
   "source": [
    "gd_cv=GridSearchCV(estimator=tree,param_grid=parameter,cv=5)\n",
    "gd_cv.fit(X_train,y_train)\n",
    "print(gd_cv.best_params_)\n",
    "print(gd_cv.best_score_)"
   ]
  },
  {
   "cell_type": "code",
   "execution_count": 25,
   "metadata": {},
   "outputs": [
    {
     "name": "stdout",
     "output_type": "stream",
     "text": [
      "1186220.1549015203\n",
      "0.5893264178819255\n"
     ]
    }
   ],
   "source": [
    "tree=DecisionTreeRegressor(criterion='mse',min_samples_split=6,min_samples_leaf=9,random_state=52,max_depth=5)\n",
    "tree\n",
    "tree.fit(X_train,y_train)\n",
    "y_pred1=tree.predict(X_test)\n",
    "print(mean_squared_error(y_test,y_pred1))\n",
    "print(r2_score(y_test,y_pred1))"
   ]
  },
  {
   "cell_type": "code",
   "execution_count": 26,
   "metadata": {},
   "outputs": [
    {
     "name": "stdout",
     "output_type": "stream",
     "text": [
      "1522687.8983813282\n",
      "0.4728401038439469\n"
     ]
    }
   ],
   "source": [
    "from sklearn.ensemble import AdaBoostRegressor\n",
    "ada=AdaBoostRegressor(base_estimator=tree,n_estimators=50,random_state=40)\n",
    "ada\n",
    "ada.fit(X_train,y_train)\n",
    "y_pred2=ada.predict(X_test)\n",
    "print(mean_squared_error(y_test,y_pred2))\n",
    "print(r2_score(y_test,y_pred2))"
   ]
  },
  {
   "cell_type": "code",
   "execution_count": null,
   "metadata": {},
   "outputs": [],
   "source": []
  },
  {
   "cell_type": "code",
   "execution_count": null,
   "metadata": {},
   "outputs": [],
   "source": []
  },
  {
   "cell_type": "code",
   "execution_count": null,
   "metadata": {},
   "outputs": [],
   "source": []
  },
  {
   "cell_type": "code",
   "execution_count": null,
   "metadata": {},
   "outputs": [],
   "source": []
  }
 ],
 "metadata": {
  "kernelspec": {
   "display_name": "Python 3",
   "language": "python",
   "name": "python3"
  },
  "language_info": {
   "codemirror_mode": {
    "name": "ipython",
    "version": 3
   },
   "file_extension": ".py",
   "mimetype": "text/x-python",
   "name": "python",
   "nbconvert_exporter": "python",
   "pygments_lexer": "ipython3",
   "version": "3.7.1"
  }
 },
 "nbformat": 4,
 "nbformat_minor": 2
}
